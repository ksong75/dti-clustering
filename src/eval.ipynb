{
 "cells": [
  {
   "cell_type": "code",
   "execution_count": 1,
   "metadata": {},
   "outputs": [],
   "source": [
    "from model import get_model\n",
    "import yaml\n",
    "import torch\n",
    "from torch.utils.data import DataLoader\n",
    "import torchvision.transforms as transforms\n",
    "from dataset import get_dataset\n",
    "import cv2\n",
    "import matplotlib.pyplot as plt"
   ]
  },
  {
   "cell_type": "code",
   "execution_count": 2,
   "metadata": {},
   "outputs": [],
   "source": [
    "if torch.cuda.is_available():\n",
    "    type_device = \"cuda\"\n",
    "    nb_device = torch.cuda.device_count()\n",
    "else:\n",
    "    type_device = \"cpu\"\n",
    "    nb_device = None\n",
    "device = torch.device(type_device)"
   ]
  },
  {
   "cell_type": "code",
   "execution_count": 5,
   "metadata": {},
   "outputs": [],
   "source": [
    "config_path = \"../runs/mnist/0627_mnist/mnist.yml\"\n",
    "model_ckpt_path = \"../runs/mnist/0627_mnist/model.pkl\""
   ]
  },
  {
   "cell_type": "code",
   "execution_count": 6,
   "metadata": {},
   "outputs": [],
   "source": [
    "with open(config_path) as fp:\n",
    "    cfg = yaml.load(fp, Loader=yaml.FullLoader)"
   ]
  },
  {
   "cell_type": "code",
   "execution_count": 7,
   "metadata": {},
   "outputs": [],
   "source": [
    "# Datasets and dataloaders\n",
    "dataset_kwargs = cfg[\"dataset\"]\n",
    "dataset_name = dataset_kwargs.pop(\"name\")\n",
    "train_dataset = get_dataset(dataset_name)(\"train\", **dataset_kwargs)\n",
    "val_dataset = get_dataset(dataset_name)(\"val\", **dataset_kwargs)\n",
    "n_classes = train_dataset.n_classes\n",
    "is_val_empty = len(val_dataset) == 0\n",
    "\n",
    "img_size = train_dataset.img_size\n",
    "batch_size = cfg[\"training\"][\"batch_size\"]\n",
    "n_workers = cfg[\"training\"].get(\"n_workers\", 4)\n",
    "train_loader = DataLoader(train_dataset, batch_size=batch_size,\n",
    "                                num_workers=n_workers, shuffle=True)\n",
    "val_loader = DataLoader(val_dataset, batch_size=batch_size, num_workers=n_workers)"
   ]
  },
  {
   "cell_type": "code",
   "execution_count": 8,
   "metadata": {},
   "outputs": [
    {
     "name": "stderr",
     "output_type": "stream",
     "text": [
      "/home/HDD2/songkang/.conda/envs/pytorch/lib/python3.9/site-packages/torch/nn/init.py:405: UserWarning: Initializing zero-element tensors is a no-op\n",
      "  warnings.warn(\"Initializing zero-element tensors is a no-op\")\n",
      "/home/HDD2/songkang/.conda/envs/pytorch/lib/python3.9/site-packages/torch/functional.py:504: UserWarning: torch.meshgrid: in an upcoming release, it will be required to pass the indexing argument. (Triggered internally at /opt/conda/conda-bld/pytorch_1682343964576/work/aten/src/ATen/native/TensorShape.cpp:3483.)\n",
      "  return _VF.meshgrid(tensors, **kwargs)  # type: ignore[attr-defined]\n"
     ]
    }
   ],
   "source": [
    "# Model\n",
    "model_kwargs = cfg[\"model\"]\n",
    "model_name = model_kwargs.pop(\"name\")\n",
    "is_gmm = 'gmm' in model_name\n",
    "model = get_model(model_name)(train_loader.dataset, **model_kwargs).to(device)"
   ]
  },
  {
   "cell_type": "code",
   "execution_count": 9,
   "metadata": {},
   "outputs": [],
   "source": [
    "checkpoint = torch.load(model_ckpt_path)\n",
    "model.load_state_dict(checkpoint['model_state'])"
   ]
  },
  {
   "cell_type": "code",
   "execution_count": 10,
   "metadata": {},
   "outputs": [],
   "source": [
    "img_paths = {\n",
    "    \"/home/HDD2/songkang/dti-clustering/runs/mnist/0627_mnist/transformations/img2/tsf9.png\"\n",
    "}"
   ]
  },
  {
   "cell_type": "code",
   "execution_count": 13,
   "metadata": {},
   "outputs": [],
   "source": [
    "# 定义转换\n",
    "transform = transforms.ToTensor()\n",
    "\n",
    "def load_image(img_path, device):\n",
    "    # 使用 OpenCV 读取图像\n",
    "    img = cv2.imread(img_path)\n",
    "    # 转换为 RGB\n",
    "    # img_rgb = cv2.cvtColor(img, cv2.COLOR_BGR2RGB)\n",
    "    img_rgb = cv2.cvtColor(img, cv2.COLOR_BGR2GRAY)\n",
    "    # 将图像转换为 Tensor，并移动到指定设备\n",
    "    img_tensor = transform(img_rgb).unsqueeze(0).to(device)\n",
    "    return img_rgb, img_tensor\n",
    "\n",
    "def show_image_and_cluster(img_rgb, cluster_index, is_grayscale=False):\n",
    "    # 显示图像\n",
    "    if is_grayscale:\n",
    "        plt.imshow(img_rgb, cmap='gray')\n",
    "    else:\n",
    "        plt.imshow(img_rgb)\n",
    "    plt.axis('off')\n",
    "    plt.title(f'Cluster: {cluster_index}')\n",
    "    plt.show()\n",
    "\n",
    "def predict_cluster(model, img_tensor):\n",
    "    # 获取距离矩阵\n",
    "    distances = model(img_tensor)[1]\n",
    "    # 找到最小距离的簇\n",
    "    cluster_index = torch.argmin(distances, dim=1).item()\n",
    "    return cluster_index"
   ]
  },
  {
   "cell_type": "code",
   "execution_count": 14,
   "metadata": {},
   "outputs": [
    {
     "data": {
      "image/png": "[encoded data removed]",
      "text/plain": [
       "<Figure size 640x480 with 1 Axes>"
      ]
     },
     "metadata": {},
     "output_type": "display_data"
    }
   ],
   "source": [
    "transform = transforms.ToTensor()\n",
    "model.eval()\n",
    "for img_path in img_paths:\n",
    "    img_rgb, img_tensor = load_image(img_path, device)\n",
    "    cluster_index = predict_cluster(model, img_tensor)\n",
    "    show_image_and_cluster(img_rgb, cluster_index, True)"
   ]
  }
 ],
 "metadata": {
  "kernelspec": {
   "display_name": "pytorch",
   "language": "python",
   "name": "python3"
  },
  "language_info": {
   "codemirror_mode": {
    "name": "ipython",
    "version": 3
   },
   "file_extension": ".py",
   "mimetype": "text/x-python",
   "name": "python",
   "nbconvert_exporter": "python",
   "pygments_lexer": "ipython3",
   "version": "3.9.16"
  }
 },
 "nbformat": 4,
 "nbformat_minor": 2
}
